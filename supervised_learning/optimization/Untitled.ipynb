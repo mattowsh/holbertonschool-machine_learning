{
 "cells": [
  {
   "cell_type": "code",
   "execution_count": null,
   "metadata": {},
   "outputs": [
    {
     "name": "stdout",
     "output_type": "stream",
     "text": [
      "Cost after 0 iterations: 4.365105010037203\n",
      "Cost after 100 iterations: 0.5729736703124043\n",
      "Cost after 200 iterations: 0.2449357405113111\n",
      "Cost after 300 iterations: 0.1771132508758216\n",
      "Cost after 400 iterations: 0.14286111618067307\n",
      "Cost after 500 iterations: 0.12051674907075897\n",
      "Cost after 600 iterations: 0.10450664363662195\n",
      "Cost after 700 iterations: 0.09245615061035156\n"
     ]
    }
   ],
   "source": [
    "%run 0-main.py"
   ]
  },
  {
   "cell_type": "code",
   "execution_count": null,
   "metadata": {},
   "outputs": [],
   "source": []
  }
 ],
 "metadata": {
  "kernelspec": {
   "display_name": "Python 3 (ipykernel)",
   "language": "python",
   "name": "python3"
  },
  "language_info": {
   "codemirror_mode": {
    "name": "ipython",
    "version": 3
   },
   "file_extension": ".py",
   "mimetype": "text/x-python",
   "name": "python",
   "nbconvert_exporter": "python",
   "pygments_lexer": "ipython3",
   "version": "3.8.10"
  }
 },
 "nbformat": 4,
 "nbformat_minor": 4
}
